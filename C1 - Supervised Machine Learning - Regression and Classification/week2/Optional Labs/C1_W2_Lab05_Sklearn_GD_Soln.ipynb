{
  "cells": [
    {
      "cell_type": "markdown",
      "metadata": {
        "pycharm": {
          "name": "#%% md\n"
        },
        "id": "SxlzTsF0hjVa"
      },
      "source": [
        "# Optional Lab: Linear Regression using Scikit-Learn"
      ],
      "id": "SxlzTsF0hjVa"
    },
    {
      "cell_type": "markdown",
      "metadata": {
        "pycharm": {
          "name": "#%% md\n"
        },
        "id": "W4ulMfvGhjVd"
      },
      "source": [
        "There is an open-source, commercially usable machine learning toolkit called [scikit-learn](https://scikit-learn.org/stable/index.html). This toolkit contains implementations of many of the algorithms that you will work with in this course.\n",
        "\n"
      ],
      "id": "W4ulMfvGhjVd"
    },
    {
      "cell_type": "markdown",
      "metadata": {
        "pycharm": {
          "name": "#%% md\n"
        },
        "id": "s3faTSuThjVd"
      },
      "source": [
        "## Goals\n",
        "In this lab you will:\n",
        "- Utilize  scikit-learn to implement linear regression using Gradient Descent"
      ],
      "id": "s3faTSuThjVd"
    },
    {
      "cell_type": "markdown",
      "metadata": {
        "pycharm": {
          "name": "#%% md\n"
        },
        "id": "b2Wm8jI_hjVd"
      },
      "source": [
        "## Tools\n",
        "You will utilize functions from scikit-learn as well as matplotlib and NumPy."
      ],
      "id": "b2Wm8jI_hjVd"
    },
    {
      "cell_type": "code",
      "execution_count": 11,
      "metadata": {
        "pycharm": {
          "name": "#%%\n"
        },
        "id": "AOtsg6ZbhjVe",
        "outputId": "864fbe87-000e-4320-db63-7abadb96b177",
        "colab": {
          "base_uri": "https://localhost:8080/"
        }
      },
      "outputs": [
        {
          "output_type": "stream",
          "name": "stdout",
          "text": [
            "mkdir: cannot create directory ‘data’: File exists\n",
            "--2025-08-21 03:01:00--  https://raw.githubusercontent.com/ly61zybaydl/Machine-Learning-Specialization-Coursera/refs/heads/main/C1%20-%20Supervised%20Machine%20Learning%20-%20Regression%20and%20Classification/week2/Optional%20Labs/deeplearning.mplstyle\n",
            "Resolving raw.githubusercontent.com (raw.githubusercontent.com)... 185.199.108.133, 185.199.109.133, 185.199.110.133, ...\n",
            "Connecting to raw.githubusercontent.com (raw.githubusercontent.com)|185.199.108.133|:443... connected.\n",
            "HTTP request sent, awaiting response... 200 OK\n",
            "Length: 4890 (4.8K) [text/plain]\n",
            "Saving to: ‘deeplearning.mplstyle.1’\n",
            "\n",
            "deeplearning.mplsty 100%[===================>]   4.78K  --.-KB/s    in 0s      \n",
            "\n",
            "2025-08-21 03:01:01 (62.3 MB/s) - ‘deeplearning.mplstyle.1’ saved [4890/4890]\n",
            "\n",
            "--2025-08-21 03:01:01--  https://raw.githubusercontent.com/ly61zybaydl/Machine-Learning-Specialization-Coursera/refs/heads/main/C1%20-%20Supervised%20Machine%20Learning%20-%20Regression%20and%20Classification/week2/Optional%20Labs/lab_utils_common.py\n",
            "Resolving raw.githubusercontent.com (raw.githubusercontent.com)... 185.199.108.133, 185.199.109.133, 185.199.110.133, ...\n",
            "Connecting to raw.githubusercontent.com (raw.githubusercontent.com)|185.199.108.133|:443... connected.\n",
            "HTTP request sent, awaiting response... 200 OK\n",
            "Length: 3258 (3.2K) [text/plain]\n",
            "Saving to: ‘lab_utils_common.py.1’\n",
            "\n",
            "lab_utils_common.py 100%[===================>]   3.18K  --.-KB/s    in 0s      \n",
            "\n",
            "2025-08-21 03:01:01 (36.2 MB/s) - ‘lab_utils_common.py.1’ saved [3258/3258]\n",
            "\n",
            "--2025-08-21 03:01:01--  https://raw.githubusercontent.com/ly61zybaydl/Machine-Learning-Specialization-Coursera/refs/heads/main/C1%20-%20Supervised%20Machine%20Learning%20-%20Regression%20and%20Classification/week2/Optional%20Labs/lab_utils_multi.py\n",
            "Resolving raw.githubusercontent.com (raw.githubusercontent.com)... 185.199.108.133, 185.199.110.133, 185.199.111.133, ...\n",
            "Connecting to raw.githubusercontent.com (raw.githubusercontent.com)|185.199.108.133|:443... connected.\n",
            "HTTP request sent, awaiting response... 200 OK\n",
            "Length: 21312 (21K) [text/plain]\n",
            "Saving to: ‘lab_utils_multi.py.1’\n",
            "\n",
            "lab_utils_multi.py. 100%[===================>]  20.81K  --.-KB/s    in 0.001s  \n",
            "\n",
            "2025-08-21 03:01:01 (13.9 MB/s) - ‘lab_utils_multi.py.1’ saved [21312/21312]\n",
            "\n"
          ]
        }
      ],
      "source": [
        "import numpy as np\n",
        "import matplotlib.pyplot as plt\n",
        "!mkdir data\n",
        "!wget https://raw.githubusercontent.com/ly61zybaydl/Machine-Learning-Specialization-Coursera/refs/heads/main/C1%20-%20Supervised%20Machine%20Learning%20-%20Regression%20and%20Classification/week2/Optional%20Labs/deeplearning.mplstyle\n",
        "!wget https://raw.githubusercontent.com/ly61zybaydl/Machine-Learning-Specialization-Coursera/refs/heads/main/C1%20-%20Supervised%20Machine%20Learning%20-%20Regression%20and%20Classification/week2/Optional%20Labs/lab_utils_common.py\n",
        "!wget https://raw.githubusercontent.com/ly61zybaydl/Machine-Learning-Specialization-Coursera/refs/heads/main/C1%20-%20Supervised%20Machine%20Learning%20-%20Regression%20and%20Classification/week2/Optional%20Labs/lab_utils_multi.py\n",
        "!wget -q -O data/houses.txt https://raw.githubusercontent.com/ly61zybaydl/Machine-Learning-Specialization-Coursera/refs/heads/main/C1%20-%20Supervised%20Machine%20Learning%20-%20Regression%20and%20Classification/week2/Optional%20Labs/data/houses.txt\n",
        "import matplotlib.pyplot as plt\n",
        "from lab_utils_multi import zscore_normalize_features, run_gradient_descent_feng\n",
        "np.set_printoptions(precision=2)  # reduced display precision on numpy arrays\n",
        "from sklearn.linear_model import SGDRegressor\n",
        "from sklearn.preprocessing import StandardScaler\n",
        "from lab_utils_multi import  load_house_data\n",
        "from lab_utils_common import dlc\n",
        "np.set_printoptions(precision=2)\n",
        "plt.style.use('./deeplearning.mplstyle')"
      ],
      "id": "AOtsg6ZbhjVe"
    },
    {
      "cell_type": "markdown",
      "metadata": {
        "pycharm": {
          "name": "#%% md\n"
        },
        "id": "tRmWu8MBhjVf"
      },
      "source": [
        "# Gradient Descent\n",
        "Scikit-learn has a gradient descent regression model [sklearn.linear_model.SGDRegressor](https://scikit-learn.org/stable/modules/generated/sklearn.linear_model.SGDRegressor.html#examples-using-sklearn-linear-model-sgdregressor).  Like your previous implementation of gradient descent, this model performs best with normalized inputs. [sklearn.preprocessing.StandardScaler](https://scikit-learn.org/stable/modules/generated/sklearn.preprocessing.StandardScaler.html#sklearn.preprocessing.StandardScaler) will perform z-score normalization as in a previous lab. Here it is referred to as 'standard score'."
      ],
      "id": "tRmWu8MBhjVf"
    },
    {
      "cell_type": "markdown",
      "metadata": {
        "pycharm": {
          "name": "#%% md\n"
        },
        "id": "f6gLbuUMhjVf"
      },
      "source": [
        "### Load the data set"
      ],
      "id": "f6gLbuUMhjVf"
    },
    {
      "cell_type": "code",
      "execution_count": 13,
      "metadata": {
        "pycharm": {
          "name": "#%%\n"
        },
        "id": "zLby-BmAhjVf"
      },
      "outputs": [],
      "source": [
        "X_train, y_train = load_house_data()\n",
        "X_features = ['size(sqft)','bedrooms','floors','age']"
      ],
      "id": "zLby-BmAhjVf"
    },
    {
      "cell_type": "markdown",
      "metadata": {
        "pycharm": {
          "name": "#%% md\n"
        },
        "id": "uNMpmKithjVf"
      },
      "source": [
        "### Scale/normalize the training data"
      ],
      "id": "uNMpmKithjVf"
    },
    {
      "cell_type": "code",
      "execution_count": 14,
      "metadata": {
        "pycharm": {
          "name": "#%%\n"
        },
        "id": "b_X3WUuphjVg",
        "outputId": "e6037cf0-d52e-400a-d23f-2f8306e84a59",
        "colab": {
          "base_uri": "https://localhost:8080/"
        }
      },
      "outputs": [
        {
          "output_type": "stream",
          "name": "stdout",
          "text": [
            "Peak to Peak range by column in Raw        X:[2.41e+03 4.00e+00 1.00e+00 9.50e+01]\n",
            "Peak to Peak range by column in Normalized X:[5.85 6.14 2.06 3.69]\n"
          ]
        }
      ],
      "source": [
        "scaler = StandardScaler()\n",
        "X_norm = scaler.fit_transform(X_train)\n",
        "print(f\"Peak to Peak range by column in Raw        X:{np.ptp(X_train,axis=0)}\")\n",
        "print(f\"Peak to Peak range by column in Normalized X:{np.ptp(X_norm,axis=0)}\")"
      ],
      "id": "b_X3WUuphjVg"
    },
    {
      "cell_type": "markdown",
      "metadata": {
        "pycharm": {
          "name": "#%% md\n"
        },
        "id": "k_BAL98jhjVg"
      },
      "source": [
        "### Create and fit the regression model"
      ],
      "id": "k_BAL98jhjVg"
    },
    {
      "cell_type": "code",
      "execution_count": 7,
      "metadata": {
        "pycharm": {
          "name": "#%%\n"
        },
        "id": "p2mO2c4nhjVh",
        "outputId": "c0a42089-86eb-4954-f056-90a32157bca6",
        "colab": {
          "base_uri": "https://localhost:8080/"
        }
      },
      "outputs": [
        {
          "output_type": "stream",
          "name": "stdout",
          "text": [
            "SGDRegressor()\n",
            "number of iterations completed: 128, number of weight updates: 12673.0\n"
          ]
        }
      ],
      "source": [
        "sgdr = SGDRegressor(max_iter=1000)\n",
        "sgdr.fit(X_norm, y_train)\n",
        "print(sgdr)\n",
        "print(f\"number of iterations completed: {sgdr.n_iter_}, number of weight updates: {sgdr.t_}\")"
      ],
      "id": "p2mO2c4nhjVh"
    },
    {
      "cell_type": "markdown",
      "metadata": {
        "pycharm": {
          "name": "#%% md\n"
        },
        "id": "m9VS2zN6hjVh"
      },
      "source": [
        "### View parameters\n",
        "Note, the parameters are associated with the *normalized* input data. The fit parameters are very close to those found in the previous lab with this data."
      ],
      "id": "m9VS2zN6hjVh"
    },
    {
      "cell_type": "code",
      "execution_count": 8,
      "metadata": {
        "pycharm": {
          "name": "#%%\n"
        },
        "id": "pnQw9iYFhjVh",
        "outputId": "cd560705-13aa-4a5f-9641-0940484d9eb9",
        "colab": {
          "base_uri": "https://localhost:8080/"
        }
      },
      "outputs": [
        {
          "output_type": "stream",
          "name": "stdout",
          "text": [
            "model parameters:                   w: [110.16 -21.13 -32.52 -38.02], b:[363.15]\n",
            "model parameters from previous lab: w: [110.56 -21.27 -32.71 -37.97], b: 363.16\n"
          ]
        }
      ],
      "source": [
        "b_norm = sgdr.intercept_\n",
        "w_norm = sgdr.coef_\n",
        "print(f\"model parameters:                   w: {w_norm}, b:{b_norm}\")\n",
        "print( \"model parameters from previous lab: w: [110.56 -21.27 -32.71 -37.97], b: 363.16\")"
      ],
      "id": "pnQw9iYFhjVh"
    },
    {
      "cell_type": "markdown",
      "metadata": {
        "pycharm": {
          "name": "#%% md\n"
        },
        "id": "0N5HA99whjVh"
      },
      "source": [
        "### Make predictions\n",
        "Predict the targets of the training data. Use both the `predict` routine and compute using $w$ and $b$."
      ],
      "id": "0N5HA99whjVh"
    },
    {
      "cell_type": "code",
      "execution_count": 9,
      "metadata": {
        "pycharm": {
          "name": "#%%\n"
        },
        "id": "0jKolHqGhjVh",
        "outputId": "e1fd741f-949f-4fc6-bd10-9401ef147677",
        "colab": {
          "base_uri": "https://localhost:8080/"
        }
      },
      "outputs": [
        {
          "output_type": "stream",
          "name": "stdout",
          "text": [
            "prediction using np.dot() and sgdr.predict match: True\n",
            "Prediction on training set:\n",
            "[295.19 485.81 389.52 491.97]\n",
            "Target values \n",
            "[300.  509.8 394.  540. ]\n"
          ]
        }
      ],
      "source": [
        "# make a prediction using sgdr.predict()\n",
        "y_pred_sgd = sgdr.predict(X_norm)\n",
        "# make a prediction using w,b.\n",
        "y_pred = np.dot(X_norm, w_norm) + b_norm\n",
        "print(f\"prediction using np.dot() and sgdr.predict match: {(y_pred == y_pred_sgd).all()}\")\n",
        "\n",
        "print(f\"Prediction on training set:\\n{y_pred[:4]}\" )\n",
        "print(f\"Target values \\n{y_train[:4]}\")"
      ],
      "id": "0jKolHqGhjVh"
    },
    {
      "cell_type": "markdown",
      "metadata": {
        "pycharm": {
          "name": "#%% md\n"
        },
        "id": "SY8tfmBQhjVh"
      },
      "source": [
        "### Plot Results\n",
        "Let's plot the predictions versus the target values."
      ],
      "id": "SY8tfmBQhjVh"
    },
    {
      "cell_type": "code",
      "execution_count": 10,
      "metadata": {
        "pycharm": {
          "name": "#%%\n"
        },
        "id": "IO28FOJVhjVh",
        "outputId": "2e432692-c089-42c8-bf1d-b1a8f53f4127",
        "colab": {
          "base_uri": "https://localhost:8080/",
          "height": 345
        }
      },
      "outputs": [
        {
          "output_type": "display_data",
          "data": {
            "text/plain": [
              "<Figure size 1200x300 with 4 Axes>"
            ],
            "image/png": "[encoded data removed]"
          },
          "metadata": {}
        }
      ],
      "source": [
        "# plot predictions and targets vs original features\n",
        "fig,ax=plt.subplots(1,4,figsize=(12,3),sharey=True)\n",
        "for i in range(len(ax)):\n",
        "    ax[i].scatter(X_train[:,i],y_train, label = 'target')\n",
        "    ax[i].set_xlabel(X_features[i])\n",
        "    ax[i].scatter(X_train[:,i],y_pred,color=dlc[\"dlorange\"], label = 'predict')\n",
        "ax[0].set_ylabel(\"Price\"); ax[0].legend();\n",
        "fig.suptitle(\"target versus prediction using z-score normalized model\")\n",
        "plt.show()"
      ],
      "id": "IO28FOJVhjVh"
    },
    {
      "cell_type": "markdown",
      "metadata": {
        "pycharm": {
          "name": "#%% md\n"
        },
        "id": "l4vvmqn_hjVi"
      },
      "source": [
        "## Congratulations!\n",
        "In this lab you:\n",
        "- utilized an open-source machine learning toolkit, scikit-learn\n",
        "- implemented linear regression using gradient descent and feature normalization from that toolkit"
      ],
      "id": "l4vvmqn_hjVi"
    },
    {
      "cell_type": "code",
      "execution_count": null,
      "metadata": {
        "pycharm": {
          "name": "#%%\n"
        },
        "id": "uJByLWs_hjVi"
      },
      "outputs": [],
      "source": [],
      "id": "uJByLWs_hjVi"
    }
  ],
  "metadata": {
    "kernelspec": {
      "display_name": "Python 3",
      "language": "python",
      "name": "python3"
    },
    "language_info": {
      "codemirror_mode": {
        "name": "ipython",
        "version": 3
      },
      "file_extension": ".py",
      "mimetype": "text/x-python",
      "name": "python",
      "nbconvert_exporter": "python",
      "pygments_lexer": "ipython3",
      "version": "3.8.10"
    },
    "colab": {
      "provenance": []
    }
  },
  "nbformat": 4,
  "nbformat_minor": 5
}